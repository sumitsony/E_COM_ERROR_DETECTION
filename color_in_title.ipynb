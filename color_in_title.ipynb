{
 "cells": [
  {
   "cell_type": "code",
   "execution_count": 10,
   "metadata": {},
   "outputs": [
    {
     "data": {
      "text/plain": [
       "{'black',\n",
       " 'dress',\n",
       " 'evening',\n",
       " 'long',\n",
       " 'one',\n",
       " 'red',\n",
       " 'sleev',\n",
       " 'slits',\n",
       " 'stole',\n",
       " 'three',\n",
       " 'two',\n",
       " 'with'}"
      ]
     },
     "execution_count": 10,
     "metadata": {},
     "output_type": "execute_result"
    }
   ],
   "source": [
    "long_word_list = 'one red long sleev two slits evening dress three with black stole'\n",
    "long_word_set = set(long_word_list.split())\n",
    "long_word_set"
   ]
  },
  {
   "cell_type": "code",
   "execution_count": 4,
   "metadata": {},
   "outputs": [
    {
     "data": {
      "text/plain": [
       "{'along'}"
      ]
     },
     "execution_count": 4,
     "metadata": {},
     "output_type": "execute_result"
    }
   ],
   "source": [
    "set('word along river'.split()) & long_word_set"
   ]
  },
  {
   "cell_type": "code",
   "execution_count": 6,
   "metadata": {},
   "outputs": [],
   "source": [
    "### Alphabet level work can come here :: Leaving it for later usage\n",
    "import re\n",
    "words_re = re.compile(\"|\".join(long_word_list))"
   ]
  },
  {
   "cell_type": "code",
   "execution_count": 7,
   "metadata": {},
   "outputs": [
    {
     "data": {
      "text/plain": [
       "re.compile(r's|o|m|e| |o|n|e| |l|o|n|g| |t|w|o| |p|h|r|a|s|e| |t|h|r|e|e| |a|b|o|u|t| |a|b|o|v|e| |a|l|o|n|g| |a|f|t|e|r| |a|g|a|i|n|s|t',\n",
       "re.UNICODE)"
      ]
     },
     "execution_count": 7,
     "metadata": {},
     "output_type": "execute_result"
    }
   ],
   "source": [
    "words_re"
   ]
  },
  {
   "cell_type": "code",
   "execution_count": 11,
   "metadata": {},
   "outputs": [
    {
     "data": {
      "text/plain": [
       "{'black', 'blue', 'green', 'orance', 'other_color', 'red', 'violate', 'yellow'}"
      ]
     },
     "execution_count": 11,
     "metadata": {},
     "output_type": "execute_result"
    }
   ],
   "source": [
    "phare_word_list = 'red orance green blue violate yellow other_color black'\n",
    "phrase_word_set = set(phare_word_list.split())\n",
    "phrase_word_set"
   ]
  },
  {
   "cell_type": "code",
   "execution_count": 12,
   "metadata": {},
   "outputs": [
    {
     "name": "stdout",
     "output_type": "stream",
     "text": [
      "{'black', 'red'}\n"
     ]
    }
   ],
   "source": [
    "print(long_word_set.intersection(phrase_word_set))"
   ]
  },
  {
   "cell_type": "code",
   "execution_count": 13,
   "metadata": {},
   "outputs": [
    {
     "name": "stdout",
     "output_type": "stream",
     "text": [
      "so far so good\n"
     ]
    }
   ],
   "source": [
    "print('so far so good')"
   ]
  }
 ],
 "metadata": {
  "kernelspec": {
   "display_name": "Python 3",
   "language": "python",
   "name": "python3"
  },
  "language_info": {
   "codemirror_mode": {
    "name": "ipython",
    "version": 3
   },
   "file_extension": ".py",
   "mimetype": "text/x-python",
   "name": "python",
   "nbconvert_exporter": "python",
   "pygments_lexer": "ipython3",
   "version": "3.6.6"
  }
 },
 "nbformat": 4,
 "nbformat_minor": 2
}
